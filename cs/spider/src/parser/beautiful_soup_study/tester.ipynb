{
 "cells": [
  {
   "cell_type": "code",
   "execution_count": 1,
   "metadata": {},
   "outputs": [],
   "source": [
    "from bs4 import BeautifulSoup\n",
    "\n",
    "with open(r\"C:\\Users\\Cao20\\note\\cs\\spider\\src\\parser\\example2.html\") as html:\n",
    "    soup: BeautifulSoup = BeautifulSoup(html.read(), \"lxml\")\n"
   ]
  },
  {
   "cell_type": "code",
   "execution_count": 2,
   "metadata": {},
   "outputs": [
    {
     "name": "stdout",
     "output_type": "stream",
     "text": [
      "<title>The Dormouse's story</title>\n",
      "<class 'bs4.element.Tag'>\n",
      "The Dormouse's story\n",
      "<head>\n",
      "<title>The Dormouse's story</title>\n",
      "<meta charset=\"utf-8\"/>\n",
      "</head>\n",
      "<p class=\"title\" name=\"dormouse\">\n",
      "<b>The Dormouse's story</b>\n",
      "</p>\n"
     ]
    }
   ],
   "source": [
    "print(\n",
    "    soup.title, # <title>The Dormouse's story</title>\n",
    "    type(soup.title), # <class 'bs4.element.Tag'>\n",
    "    soup.title.string, # <class 'bs4.element.Tag'>\n",
    "    soup.head, # <head><title>The Dormouse's story</title><meta charset=\"utf-8\"/></head>\n",
    "    soup.p, # <p class=\"title\" name=\"dormouse\"><b>The Dormouse's story</b></p>\n",
    "    sep = '\\n'\n",
    ")"
   ]
  },
  {
   "cell_type": "code",
   "execution_count": 3,
   "metadata": {},
   "outputs": [
    {
     "name": "stdout",
     "output_type": "stream",
     "text": [
      "title\n"
     ]
    }
   ],
   "source": [
    "print(soup.title.name)"
   ]
  },
  {
   "cell_type": "code",
   "execution_count": 4,
   "metadata": {},
   "outputs": [
    {
     "name": "stdout",
     "output_type": "stream",
     "text": [
      "{'class': ['title'], 'name': 'dormouse'}\n",
      "dormouse\n",
      "['title']\n"
     ]
    }
   ],
   "source": [
    "print(soup.p.attrs)\n",
    "print(soup.p['name'])\n",
    "print(soup.p['class'])"
   ]
  },
  {
   "cell_type": "code",
   "execution_count": 5,
   "metadata": {},
   "outputs": [
    {
     "name": "stdout",
     "output_type": "stream",
     "text": [
      "None\n",
      "<p class=\"story\">Once upon a time there were three little sisters; and their names were\n",
      "    <a class=\"sister\" href=\"http://example.com/elsie\" id=\"link1\">\n",
      "<!-- Elsie -->\n",
      "</a>,\n",
      "    <a class=\"sister\" href=\"http://example.com/lacie\" id=\"link2\">Lacie</a> and\n",
      "    <a class=\"sister\" href=\"http://example.com/tillie\" id=\"link3\">Tillie</a>; and they lived at the bottom of a well.\n",
      "</p>\n"
     ]
    }
   ],
   "source": [
    "print(soup.p.find_next_sibling('p').string)\n",
    "print(story:=soup.p.find_next_sibling('p'))"
   ]
  },
  {
   "cell_type": "code",
   "execution_count": 6,
   "metadata": {},
   "outputs": [
    {
     "data": {
      "text/plain": [
       "['Once upon a time there were three little sisters; and their names were\\n    ',\n",
       " <a class=\"sister\" href=\"http://example.com/elsie\" id=\"link1\">\n",
       " <!-- Elsie -->\n",
       " </a>,\n",
       " ',\\n    ',\n",
       " <a class=\"sister\" href=\"http://example.com/lacie\" id=\"link2\">Lacie</a>,\n",
       " ' and\\n    ',\n",
       " <a class=\"sister\" href=\"http://example.com/tillie\" id=\"link3\">Tillie</a>,\n",
       " '; and they lived at the bottom of a well.\\n']"
      ]
     },
     "execution_count": 6,
     "metadata": {},
     "output_type": "execute_result"
    }
   ],
   "source": [
    "story.contents"
   ]
  },
  {
   "cell_type": "code",
   "execution_count": 7,
   "metadata": {},
   "outputs": [
    {
     "name": "stdout",
     "output_type": "stream",
     "text": [
      "0 | 'Once upon a time there were three little sisters; and their names were\\n    '\n",
      "1 | <a class=\"sister\" href=\"http://example.com/elsie\" id=\"link1\"><!-- Elsie --></a>\n",
      "2 | ',\\n    '\n",
      "3 | <a class=\"sister\" href=\"http://example.com/lacie\" id=\"link2\">Lacie</a>\n",
      "4 | ' and\\n    '\n",
      "5 | <a class=\"sister\" href=\"http://example.com/tillie\" id=\"link3\">Tillie</a>\n",
      "6 | '; and they lived at the bottom of a well.\\n'\n",
      "<class 'list_iterator'>\n"
     ]
    }
   ],
   "source": [
    "for i, child in enumerate(story.children):\n",
    "    print(i, repr(child).replace(\"\\n\", \"\"), sep=\" | \")\n",
    "print(type(story.children))\n"
   ]
  },
  {
   "cell_type": "code",
   "execution_count": 8,
   "metadata": {},
   "outputs": [
    {
     "name": "stdout",
     "output_type": "stream",
     "text": [
      "0 | 'Once upon a time there were three little sisters; and their names were\\n    '\n",
      "1 | <a class=\"sister\" href=\"http://example.com/elsie\" id=\"link1\"><!-- Elsie --></a>\n",
      "2 | '\\n'\n",
      "3 | ' Elsie '\n",
      "4 | '\\n'\n",
      "5 | ',\\n    '\n",
      "6 | <a class=\"sister\" href=\"http://example.com/lacie\" id=\"link2\">Lacie</a>\n",
      "7 | 'Lacie'\n",
      "8 | ' and\\n    '\n",
      "9 | <a class=\"sister\" href=\"http://example.com/tillie\" id=\"link3\">Tillie</a>\n",
      "10 | 'Tillie'\n",
      "11 | '; and they lived at the bottom of a well.\\n'\n"
     ]
    }
   ],
   "source": [
    "for i, child in enumerate(story.descendants):\n",
    "    print(i, repr(child).replace(\"\\n\", \"\"), sep=\" | \")"
   ]
  },
  {
   "cell_type": "code",
   "execution_count": 9,
   "metadata": {},
   "outputs": [
    {
     "name": "stdout",
     "output_type": "stream",
     "text": [
      "<p class=\"story\">Once upon a time there were three little sisters; and their names were\n",
      "    <a class=\"sister\" href=\"http://example.com/elsie\" id=\"link1\">\n",
      "<!-- Elsie -->\n",
      "</a>,\n",
      "    <a class=\"sister\" href=\"http://example.com/lacie\" id=\"link2\">Lacie</a> and\n",
      "    <a class=\"sister\" href=\"http://example.com/tillie\" id=\"link3\">Tillie</a>; and they lived at the bottom of a well.\n",
      "</p>\n"
     ]
    }
   ],
   "source": [
    "print(soup.a.parent)"
   ]
  },
  {
   "cell_type": "code",
   "execution_count": 10,
   "metadata": {},
   "outputs": [
    {
     "name": "stdout",
     "output_type": "stream",
     "text": [
      "<class 'bs4.element.Tag'>\n",
      "1  | p\n",
      "2  | body\n",
      "3  | html\n",
      "4  | [document]\n"
     ]
    }
   ],
   "source": [
    "gen_formatter = lambda gen: [\n",
    "    f\"{num:<2} | \"\n",
    "    + (\n",
    "        name\n",
    "        if (name := getattr(parent, \"name\", None))\n",
    "        else text\n",
    "        if (text := getattr(parent, \"text\", None))\n",
    "        else repr(parent)\n",
    "    )\n",
    "    for num, parent in enumerate(gen, start=1)\n",
    "]\n",
    "\n",
    "print(type(soup.a.parent), *gen_formatter(soup.a.parents), sep=\"\\n\")\n"
   ]
  },
  {
   "cell_type": "code",
   "execution_count": 11,
   "metadata": {},
   "outputs": [
    {
     "name": "stdout",
     "output_type": "stream",
     "text": [
      "Next sibling\n",
      ",\n",
      "    \n",
      "Previous sibling\n",
      "Once upon a time there were three little sisters; and their names were\n",
      "    \n",
      "Next siblings\n",
      "1  | ,\n",
      "    \n",
      "2  | a\n",
      "3  |  and\n",
      "    \n",
      "4  | a\n",
      "5  | ; and they lived at the bottom of a well.\n",
      "\n",
      "Previous siblings\n",
      "1  | Once upon a time there were three little sisters; and their names were\n",
      "    \n"
     ]
    }
   ],
   "source": [
    "print(\"Next sibling\", soup.a.next_sibling, sep=\"\\n\")\n",
    "print(\"Previous sibling\", soup.a.previous_sibling, sep=\"\\n\")\n",
    "print(\"Next siblings\", *gen_formatter(soup.a.next_siblings), sep=\"\\n\")\n",
    "print(\"Previous siblings\", *gen_formatter(soup.a.previous_siblings), sep=\"\\n\")\n"
   ]
  },
  {
   "cell_type": "code",
   "execution_count": 12,
   "metadata": {},
   "outputs": [
    {
     "name": "stdout",
     "output_type": "stream",
     "text": [
      "[<a class=\"sister\" href=\"http://example.com/elsie\" id=\"link1\">\n",
      "<!-- Elsie -->\n",
      "</a>, <a class=\"sister\" href=\"http://example.com/lacie\" id=\"link2\">Lacie</a>, <a class=\"sister\" href=\"http://example.com/tillie\" id=\"link3\">Tillie</a>]\n",
      "<class 'bs4.element.Tag'>\n"
     ]
    }
   ],
   "source": [
    "print(soup.find_all(name=\"a\"))\n",
    "print(type(soup.find_all(name=\"a\")[0]))\n"
   ]
  },
  {
   "cell_type": "code",
   "execution_count": 14,
   "metadata": {},
   "outputs": [],
   "source": [
    "with open(r\"C:\\Users\\Cao20\\note\\cs\\spider\\src\\parser\\example3.html\") as html:\n",
    "    soup = BeautifulSoup(html.read(), \"lxml\")\n"
   ]
  },
  {
   "cell_type": "code",
   "execution_count": 16,
   "metadata": {},
   "outputs": [
    {
     "name": "stdout",
     "output_type": "stream",
     "text": [
      "[<ul class=\"list\" id=\"list-1\">\n",
      "<li class=\"element\">Foo</li>\n",
      "<li class=\"element\">Bar</li>\n",
      "<li class=\"element\">Jay</li>\n",
      "</ul>, <ul class=\"list list-small\" id=\"list-2\">\n",
      "<li class=\"element\">Foo</li>\n",
      "<li class=\"element\">Bar</li>\n",
      "</ul>]\n",
      "<class 'bs4.element.Tag'>\n",
      "[]\n"
     ]
    }
   ],
   "source": [
    "print(soup.find_all(name=\"ul\"))  # 返回 ul 列表\n",
    "print(type(soup.find_all(name=\"ul\")[0]))  # bs4.element.Tag\n",
    "print(soup.find_all(\"does-not-exist\"))  # 返回空列表\n"
   ]
  },
  {
   "cell_type": "code",
   "execution_count": 17,
   "metadata": {},
   "outputs": [
    {
     "name": "stdout",
     "output_type": "stream",
     "text": [
      "[<li class=\"element\">Foo</li>, <li class=\"element\">Bar</li>, <li class=\"element\">Jay</li>]\n",
      "[<li class=\"element\">Foo</li>, <li class=\"element\">Bar</li>]\n"
     ]
    }
   ],
   "source": [
    "for ul in soup.find_all(name=\"ul\"):\n",
    "    print(ul.find_all(name=\"li\"))\n"
   ]
  },
  {
   "cell_type": "code",
   "execution_count": 18,
   "metadata": {},
   "outputs": [
    {
     "name": "stdout",
     "output_type": "stream",
     "text": [
      "Foo\n",
      "Bar\n",
      "Jay\n",
      "Foo\n",
      "Bar\n"
     ]
    }
   ],
   "source": [
    "for ul in soup.find_all(name='ul'):\n",
    "    for li in ul.find_all(name='li'):\n",
    "        print(li.string)"
   ]
  },
  {
   "cell_type": "code",
   "execution_count": 31,
   "metadata": {},
   "outputs": [
    {
     "name": "stdout",
     "output_type": "stream",
     "text": [
      "[<ul class=\"list\" id=\"list-1\">\n",
      "<li class=\"element\">Foo</li>\n",
      "<li class=\"element\">Bar</li>\n",
      "<li class=\"element\">Jay</li>\n",
      "</ul>]\n",
      "[]\n",
      "[<ul class=\"list\" id=\"list-1\">\n",
      "<li class=\"element\">Foo</li>\n",
      "<li class=\"element\">Bar</li>\n",
      "<li class=\"element\">Jay</li>\n",
      "</ul>]\n",
      "[<li class=\"element\">Foo</li>, <li class=\"element\">Bar</li>, <li class=\"element\">Jay</li>, <li class=\"element\">Foo</li>, <li class=\"element\">Bar</li>]\n",
      "[<ul class=\"list\" id=\"list-1\">\n",
      "<li class=\"element\">Foo</li>\n",
      "<li class=\"element\">Bar</li>\n",
      "<li class=\"element\">Jay</li>\n",
      "</ul>, <ul class=\"list list-small\" id=\"list-2\">\n",
      "<li class=\"element\">Foo</li>\n",
      "<li class=\"element\">Bar</li>\n",
      "</ul>]\n"
     ]
    }
   ],
   "source": [
    "print(soup.find_all(attrs={\"id\": \"list-1\"}))\n",
    "print(soup.find_all(attrs={\"name\": \"elements\"}))\n",
    "print(soup.find_all(id=\"list-1\"))\n",
    "print(soup.find_all(class_=\"element\"))\n",
    "print(soup.find_all(class_='list'))"
   ]
  },
  {
   "cell_type": "code",
   "execution_count": 28,
   "metadata": {},
   "outputs": [
    {
     "name": "stdout",
     "output_type": "stream",
     "text": [
      "['Foo', 'Foo']\n",
      "[<h4>Hello</h4>, <li class=\"element\">Foo</li>, <li class=\"element\">Bar</li>, <li class=\"element\">Jay</li>, <li class=\"element\">Foo</li>, <li class=\"element\">Bar</li>]\n"
     ]
    }
   ],
   "source": [
    "import regex as re\n",
    "\n",
    "print(soup.find_all(text=\"Foo\"))  # NavigableString\n",
    "print([nvi.parent for nvi in soup.find_all(text=re.compile(r\"\\w{3}\", re.I))])  # tag\n"
   ]
  },
  {
   "cell_type": "code",
   "execution_count": 30,
   "metadata": {},
   "outputs": [
    {
     "name": "stdout",
     "output_type": "stream",
     "text": [
      "<ul class=\"list\" id=\"list-1\">\n",
      "<li class=\"element\">Foo</li>\n",
      "<li class=\"element\">Bar</li>\n",
      "<li class=\"element\">Jay</li>\n",
      "</ul>\n",
      "<ul class=\"list\" id=\"list-1\">\n",
      "<li class=\"element\">Foo</li>\n",
      "<li class=\"element\">Bar</li>\n",
      "<li class=\"element\">Jay</li>\n",
      "</ul>\n"
     ]
    }
   ],
   "source": [
    "print(soup.find(name=\"ul\"))\n",
    "print(soup.find(class_='list'))"
   ]
  },
  {
   "cell_type": "code",
   "execution_count": 34,
   "metadata": {},
   "outputs": [
    {
     "name": "stdout",
     "output_type": "stream",
     "text": [
      "[<div class=\"panel-heading\">\n",
      "<h4>Hello</h4>\n",
      "</div>]\n",
      "[<li class=\"element\">Foo</li>, <li class=\"element\">Bar</li>, <li class=\"element\">Jay</li>, <li class=\"element\">Foo</li>, <li class=\"element\">Bar</li>]\n",
      "[<li class=\"element\">Foo</li>, <li class=\"element\">Bar</li>]\n",
      "<class 'bs4.element.Tag'>\n"
     ]
    }
   ],
   "source": [
    "print(\n",
    "    soup.select(\".panel > .panel-heading\"),\n",
    "    soup.select(\"ul li\"),\n",
    "    soup.select(\"#list-2 .element\"),\n",
    "    type(soup.select(\"ul\")[0]),\n",
    "    sep=\"\\n\",\n",
    ")\n"
   ]
  }
 ],
 "metadata": {
  "interpreter": {
   "hash": "f69153421f7310a796e857cd645e6dce4fc48521fbed7416099549478f222037"
  },
  "kernelspec": {
   "display_name": "Python 3.10.4 64-bit",
   "language": "python",
   "name": "python3"
  },
  "language_info": {
   "codemirror_mode": {
    "name": "ipython",
    "version": 3
   },
   "file_extension": ".py",
   "mimetype": "text/x-python",
   "name": "python",
   "nbconvert_exporter": "python",
   "pygments_lexer": "ipython3",
   "version": "3.10.4"
  },
  "orig_nbformat": 4
 },
 "nbformat": 4,
 "nbformat_minor": 2
}
