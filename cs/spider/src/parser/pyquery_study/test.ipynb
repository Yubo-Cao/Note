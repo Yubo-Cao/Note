{
 "cells": [
  {
   "cell_type": "code",
   "execution_count": 64,
   "metadata": {},
   "outputs": [],
   "source": [
    "from pyquery import PyQuery as pq\n",
    "\n",
    "with open(r\"C:\\Users\\Cao20\\note\\cs\\spider\\src\\parser\\example4.html\") as html:\n",
    "    doc = pq(html.read())\n"
   ]
  },
  {
   "cell_type": "code",
   "execution_count": 5,
   "metadata": {},
   "outputs": [
    {
     "name": "stdout",
     "output_type": "stream",
     "text": [
      "<class 'pyquery.pyquery.PyQuery'>\n",
      "<class 'pyquery.pyquery.PyQuery'>\n"
     ]
    }
   ],
   "source": [
    "print(doc(\"li\"))  # <class 'pyquery.pyquery.PyQuery'>\n",
    "print(type(doc))  # <class 'pyquery.pyquery.PyQuery'>\n"
   ]
  },
  {
   "cell_type": "code",
   "execution_count": 11,
   "metadata": {},
   "outputs": [
    {
     "name": "stdout",
     "output_type": "stream",
     "text": [
      "<title>Google</title>\n",
      "<class 'pyquery.pyquery.PyQuery'>\n"
     ]
    }
   ],
   "source": [
    "doc = pq(url=\"https://www.google.com\")\n",
    "print(doc(\"title\"))\n",
    "doc = pq(filename=r\"C:\\Users\\Cao20\\note\\cs\\spider\\src\\parser\\example4.html\")\n",
    "print(doc(\"title\"))\n"
   ]
  },
  {
   "cell_type": "code",
   "execution_count": 17,
   "metadata": {},
   "outputs": [
    {
     "name": "stdout",
     "output_type": "stream",
     "text": [
      "<li class=\"item-0\">first item</li>\n",
      "        <li class=\"item-1\"><a href=\"link2.html\">second item</a></li>\n",
      "        <li class=\"item-0 active\"><a href=\"link3.html\"><span class=\"bold\">third item</span></a></li>\n",
      "        <li class=\"item-1 active\"><a href=\"link4.html\">fourth item</a></li>\n",
      "        <li class=\"item-0\"><a href=\"link5.html\">fifth item</a></li>\n",
      "    \n"
     ]
    }
   ],
   "source": [
    "print(doc('#container .list li'))"
   ]
  },
  {
   "cell_type": "code",
   "execution_count": 21,
   "metadata": {},
   "outputs": [
    {
     "name": "stdout",
     "output_type": "stream",
     "text": [
      "<class 'pyquery.pyquery.PyQuery'>\n",
      "<ul class=\"list\">\n",
      "        <li class=\"item-0\">first item</li>\n",
      "        <li class=\"item-1\"><a href=\"link2.html\">second item</a></li>\n",
      "        <li class=\"item-0 active\"><a href=\"link3.html\"><span class=\"bold\">third item</span></a></li>\n",
      "        <li class=\"item-1 active\"><a href=\"link4.html\">fourth item</a></li>\n",
      "        <li class=\"item-0\"><a href=\"link5.html\">fifth item</a></li>\n",
      "    </ul>\n",
      "\n",
      "<class 'pyquery.pyquery.PyQuery'>\n",
      "<li class=\"item-0\">first item</li>\n",
      "        <li class=\"item-1\"><a href=\"link2.html\">second item</a></li>\n",
      "        <li class=\"item-0 active\"><a href=\"link3.html\"><span class=\"bold\">third item</span></a></li>\n",
      "        <li class=\"item-1 active\"><a href=\"link4.html\">fourth item</a></li>\n",
      "        <li class=\"item-0\"><a href=\"link5.html\">fifth item</a></li>\n",
      "    \n"
     ]
    }
   ],
   "source": [
    "items = doc('.list')\n",
    "print(type(items))\n",
    "print(items)\n",
    "lis = items.find('li')\n",
    "print(type(lis))\n",
    "print(lis)"
   ]
  },
  {
   "cell_type": "code",
   "execution_count": 26,
   "metadata": {},
   "outputs": [
    {
     "data": {
      "text/plain": [
       "[<a>, <a>, <a>, <a>]"
      ]
     },
     "execution_count": 26,
     "metadata": {},
     "output_type": "execute_result"
    }
   ],
   "source": [
    "items.children('a')\n",
    "items.find('a')"
   ]
  },
  {
   "cell_type": "code",
   "execution_count": 28,
   "metadata": {},
   "outputs": [
    {
     "name": "stdout",
     "output_type": "stream",
     "text": [
      "<class 'pyquery.pyquery.PyQuery'>\n",
      "<div id=\"container\">\n",
      "    <ul class=\"list\">\n",
      "        <li class=\"item-0\">first item</li>\n",
      "        <li class=\"item-1\"><a href=\"link2.html\">second item</a></li>\n",
      "        <li class=\"item-0 active\"><a href=\"link3.html\"><span class=\"bold\">third item</span></a></li>\n",
      "        <li class=\"item-1 active\"><a href=\"link4.html\">fourth item</a></li>\n",
      "        <li class=\"item-0\"><a href=\"link5.html\">fifth item</a></li>\n",
      "    </ul>\n",
      "</div>\n"
     ]
    }
   ],
   "source": [
    "container = items.parent()\n",
    "print(type(container), container, sep=\"\\n\")\n"
   ]
  },
  {
   "cell_type": "code",
   "execution_count": 35,
   "metadata": {},
   "outputs": [
    {
     "data": {
      "text/plain": [
       "[<div#container>]"
      ]
     },
     "execution_count": 35,
     "metadata": {},
     "output_type": "execute_result"
    }
   ],
   "source": [
    "items.find('a').parents('div#container')\n",
    "items.parents()"
   ]
  },
  {
   "cell_type": "code",
   "execution_count": 36,
   "metadata": {},
   "outputs": [
    {
     "name": "stdout",
     "output_type": "stream",
     "text": [
      "<li class=\"item-1\"><a href=\"link2.html\">second item</a></li>\n",
      "        <li class=\"item-0\">first item</li>\n",
      "        <li class=\"item-1 active\"><a href=\"link4.html\">fourth item</a></li>\n",
      "        <li class=\"item-0\"><a href=\"link5.html\">fifth item</a></li>\n",
      "    \n"
     ]
    }
   ],
   "source": [
    "li = doc('.list .item-0.active')\n",
    "print(li.siblings())"
   ]
  },
  {
   "cell_type": "code",
   "execution_count": 39,
   "metadata": {},
   "outputs": [
    {
     "name": "stdout",
     "output_type": "stream",
     "text": [
      "<li class=\"item-1\"><a href=\"link2.html\">second item</a></li>\n",
      "        \n",
      "<li class=\"item-0\">first item</li>\n",
      "        \n",
      "<li class=\"item-1 active\"><a href=\"link4.html\">fourth item</a></li>\n",
      "        \n",
      "<li class=\"item-0\"><a href=\"link5.html\">fifth item</a></li>\n",
      "    \n"
     ]
    }
   ],
   "source": [
    "for sib in li.siblings().items():\n",
    "    print(sib)"
   ]
  },
  {
   "cell_type": "code",
   "execution_count": 40,
   "metadata": {},
   "outputs": [
    {
     "name": "stdout",
     "output_type": "stream",
     "text": [
      "<a href=\"link3.html\"><span class=\"bold\">third item</span></a> <class 'pyquery.pyquery.PyQuery'> link3.html\n"
     ]
    }
   ],
   "source": [
    "a = doc(\".item-0.active a\")\n",
    "print(a, type(a), a.attr(\"href\"))\n"
   ]
  },
  {
   "cell_type": "code",
   "execution_count": 42,
   "metadata": {},
   "outputs": [
    {
     "name": "stdout",
     "output_type": "stream",
     "text": [
      "link2.html\n",
      "link2.html\n"
     ]
    }
   ],
   "source": [
    "a = doc(\"a\")\n",
    "print(a.attr(\"href\"))\n",
    "print(a.attr.href)"
   ]
  },
  {
   "cell_type": "code",
   "execution_count": 46,
   "metadata": {},
   "outputs": [
    {
     "name": "stdout",
     "output_type": "stream",
     "text": [
      "<a href=\"link2.html\">second item</a><a href=\"link3.html\"><span class=\"bold\">third item</span></a><a href=\"link4.html\">fourth item</a><a href=\"link5.html\">fifth item</a>\n",
      "second item third item fourth item fifth item <class 'str'>\n",
      "second item <class 'str'>\n"
     ]
    }
   ],
   "source": [
    "a = doc('a')\n",
    "print(a)\n",
    "print(t:=a.text(), type(t))\n",
    "print(t:=a.html(), type(t))"
   ]
  },
  {
   "cell_type": "code",
   "execution_count": 49,
   "metadata": {},
   "outputs": [
    {
     "name": "stdout",
     "output_type": "stream",
     "text": [
      "<li class=\"item-0 active\"><a href=\"link3.html\"><span class=\"bold\">third item</span></a></li>\n",
      "        \n",
      "<li class=\"item-0\"><a href=\"link3.html\"><span class=\"bold\">third item</span></a></li>\n",
      "        \n",
      "<li class=\"item-0 active\"><a href=\"link3.html\"><span class=\"bold\">third item</span></a></li>\n",
      "        \n"
     ]
    }
   ],
   "source": [
    "li = doc('.item-0.active')\n",
    "print(li)\n",
    "li.remove_class('active')\n",
    "print(li)\n",
    "li.add_class('active')\n",
    "print(li)"
   ]
  },
  {
   "cell_type": "code",
   "execution_count": 50,
   "metadata": {},
   "outputs": [
    {
     "name": "stdout",
     "output_type": "stream",
     "text": [
      "<li class=\"item-0 active\"><a href=\"link3.html\"><span class=\"bold\">third item</span></a></li>\n",
      "        \n",
      "<li class=\"item-0 active\" id=\"link\"><a href=\"link3.html\"><span class=\"bold\">third item</span></a></li>\n",
      "        \n",
      "<li class=\"item-0 active\" id=\"link\">changed item</li>\n",
      "        \n",
      "<li class=\"item-0 active\" id=\"link\"><strong>changed item</strong></li>\n",
      "        \n"
     ]
    }
   ],
   "source": [
    "li = doc('.item-0.active')\n",
    "print(li)\n",
    "li.attr('id', 'link')\n",
    "print(li)\n",
    "li.text('changed item')\n",
    "print(li)\n",
    "li.html('<strong>changed item</strong>')\n",
    "print(li)"
   ]
  },
  {
   "cell_type": "code",
   "execution_count": 52,
   "metadata": {},
   "outputs": [
    {
     "name": "stdout",
     "output_type": "stream",
     "text": [
      "<div id=\"container\">\n",
      "    <ul class=\"list\">\n",
      "        <li class=\"item-0\">first item</li>\n",
      "        <li class=\"item-1\"><a href=\"link2.html\">second item</a></li>\n",
      "        <li class=\"item-0 active\" id=\"link\"><strong>changed item</strong></li>\n",
      "        <li class=\"item-1 active\"><a href=\"link4.html\">fourth item</a></li>\n",
      "        <li class=\"item-0\"><a href=\"link5.html\">fifth item</a></li>\n",
      "    </ul>\n",
      "</div>\n"
     ]
    }
   ],
   "source": [
    "print(doc)"
   ]
  },
  {
   "cell_type": "code",
   "execution_count": 60,
   "metadata": {},
   "outputs": [
    {
     "name": "stdout",
     "output_type": "stream",
     "text": [
      "Hello, WorldThis is trash.\n"
     ]
    }
   ],
   "source": [
    "html = '''\n",
    "<div class=\"container\">\n",
    "Hello, World<span>This is trash.</span>\n",
    "</div>\n",
    "'''\n",
    "doc = pq(html)\n",
    "con = doc('.container')\n",
    "print(con.text())"
   ]
  },
  {
   "cell_type": "code",
   "execution_count": 63,
   "metadata": {},
   "outputs": [
    {
     "name": "stdout",
     "output_type": "stream",
     "text": [
      "Hello, World\n",
      "<div class=\"container\"><span>This is some useful header.</span> \n",
      "Hello, World \n",
      "<span>This is useful.</span></div>\n",
      "<div class=\"container\"/>\n"
     ]
    }
   ],
   "source": [
    "con.find('span').remove() # 返回移除的元素\n",
    "print(con.text())\n",
    "con.append(pq('<span>This is useful.</span>'))\n",
    "con.prepend(pq('<span>This is some useful header.</span>'))\n",
    "print(doc)\n",
    "con.empty()\n",
    "print(doc)"
   ]
  },
  {
   "cell_type": "code",
   "execution_count": 72,
   "metadata": {},
   "outputs": [
    {
     "name": "stdout",
     "output_type": "stream",
     "text": [
      "<li class=\"item-0\">first item</li>\n",
      "        \n",
      "<li class=\"item-0\"><a href=\"link5.html\">fifth item</a></li>\n",
      "    \n",
      "<li class=\"item-1\"><a href=\"link2.html\">second item</a></li>\n",
      "        \n",
      "<li class=\"item-1 active\"><a href=\"link4.html\">fourth item</a></li>\n",
      "        <li class=\"item-0\"><a href=\"link5.html\">fifth item</a></li>\n",
      "    \n",
      "<li class=\"item-1\"><a href=\"link2.html\">second item</a></li>\n",
      "        <li class=\"item-1 active\"><a href=\"link4.html\">fourth item</a></li>\n",
      "        \n",
      "<li class=\"item-1\"><a href=\"link2.html\">second item</a></li>\n",
      "        \n"
     ]
    }
   ],
   "source": [
    "print(\n",
    "    doc(\"li:first-child\"), # 第一个 li 节点\n",
    "    doc(\"li:last-child\"), # 最后一个 li 节点\n",
    "    doc(\"li:nth-child(2)\"), # 第二个 li 节点\n",
    "    doc(\"li:gt(2)\"), # 第三个 li 节点之后的节点\n",
    "    doc(\"li:nth-child(2n)\"), # 偶数节点\n",
    "    doc(\"li:contains(second)\"), # 包含 second 文本的节点\n",
    "    sep=\"\\n\",\n",
    ")\n"
   ]
  }
 ],
 "metadata": {
  "interpreter": {
   "hash": "f69153421f7310a796e857cd645e6dce4fc48521fbed7416099549478f222037"
  },
  "kernelspec": {
   "display_name": "Python 3.10.4 64-bit",
   "language": "python",
   "name": "python3"
  },
  "language_info": {
   "codemirror_mode": {
    "name": "ipython",
    "version": 3
   },
   "file_extension": ".py",
   "mimetype": "text/x-python",
   "name": "python",
   "nbconvert_exporter": "python",
   "pygments_lexer": "ipython3",
   "version": "3.10.4"
  },
  "orig_nbformat": 4
 },
 "nbformat": 4,
 "nbformat_minor": 2
}
