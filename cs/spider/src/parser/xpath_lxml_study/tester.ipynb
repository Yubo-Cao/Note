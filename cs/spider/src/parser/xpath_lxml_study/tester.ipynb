{
 "cells": [
  {
   "cell_type": "code",
   "execution_count": 33,
   "metadata": {},
   "outputs": [],
   "source": [
    "from lxml import etree\n",
    "\n",
    "html = etree.parse(\n",
    "    r\"C:\\Users\\Cao20\\note\\cs\\spider\\src\\parser\\example.html\", etree.HTMLParser()\n",
    ")\n",
    "\n",
    "\n",
    "def xpath(xp: str, print_res: bool = False):\n",
    "    res = html.xpath(xp)\n",
    "    if print_res:\n",
    "        print(res)\n",
    "    return res\n"
   ]
  },
  {
   "cell_type": "code",
   "execution_count": 10,
   "metadata": {},
   "outputs": [
    {
     "data": {
      "text/plain": [
       "['item-1']"
      ]
     },
     "execution_count": 10,
     "metadata": {},
     "output_type": "execute_result"
    }
   ],
   "source": [
    "xpath('//a[@href=\"link4.html\"]/../@class')\n",
    "xpath('//a[@href=\"link4.html\"]/parent::*/@class')"
   ]
  },
  {
   "cell_type": "code",
   "execution_count": 15,
   "metadata": {},
   "outputs": [
    {
     "data": {
      "text/plain": [
       "[<Element li at 0x23e7af44d80>, <Element li at 0x23e7cb076c0>]"
      ]
     },
     "execution_count": 15,
     "metadata": {},
     "output_type": "execute_result"
    }
   ],
   "source": [
    "xpath('//child::li[@class=\"item-0\"]')"
   ]
  },
  {
   "cell_type": "code",
   "execution_count": 20,
   "metadata": {},
   "outputs": [
    {
     "data": {
      "text/plain": [
       "['first item', 'fifth item']"
      ]
     },
     "execution_count": 20,
     "metadata": {},
     "output_type": "execute_result"
    }
   ],
   "source": [
    "xpath('//li[@class=\"item-0\"]/a/text()')"
   ]
  },
  {
   "cell_type": "code",
   "execution_count": 21,
   "metadata": {},
   "outputs": [
    {
     "data": {
      "text/plain": [
       "['link1.html', 'link2.html', 'link3.html', 'link4.html', 'link5.html']"
      ]
     },
     "execution_count": 21,
     "metadata": {},
     "output_type": "execute_result"
    }
   ],
   "source": [
    "xpath('//li/a/@href')"
   ]
  },
  {
   "cell_type": "code",
   "execution_count": 29,
   "metadata": {},
   "outputs": [
    {
     "data": {
      "text/plain": [
       "['\\n                    第一列\\n                    ']"
      ]
     },
     "execution_count": 29,
     "metadata": {},
     "output_type": "execute_result"
    }
   ],
   "source": [
    "html = etree.HTML('''\n",
    "                  <div class=\"row container\" style=\"display: flex;\">\n",
    "                    <div class=\"column left\" style=\"flex: 50%;\">\n",
    "                    第一列\n",
    "                    </div>\n",
    "                    <div class=\"column right\" style=\"flex: 50%;\">\n",
    "                    第二列\n",
    "                    </div>\n",
    "                  </div>\n",
    "                  ''')\n",
    "xpath('//div[@class=\"left\"]/text()')\n",
    "xpath('//div[contains(@class, \"left\")]/text()')\n",
    "xpath('//div[contains(@class, \"left\") and contains(@class, \"column\") and @style=\"flex: 50%;\"]/text()')"
   ]
  },
  {
   "cell_type": "code",
   "execution_count": 36,
   "metadata": {},
   "outputs": [
    {
     "data": {
      "text/plain": [
       "['third item']"
      ]
     },
     "execution_count": 36,
     "metadata": {},
     "output_type": "execute_result"
    }
   ],
   "source": [
    "xpath(\"//li[1]/a/text()\")  # ['first item']\n",
    "xpath(\"//li[last()]/a/text()\")  # ['fifth item']\n",
    "xpath(\"//li[position()<3]/a/text()\")  # ['first item', 'second item']\n",
    "xpath(\"//li[last()-2]/a/text()\")  # ['third item']"
   ]
  },
  {
   "cell_type": "code",
   "execution_count": 40,
   "metadata": {},
   "outputs": [
    {
     "name": "stdout",
     "output_type": "stream",
     "text": [
      "[<Element html at 0x23e7cacd0c0>, <Element body at 0x23e7c31dbc0>, <Element div at 0x23e7caa2880>, <Element ul at 0x23e7caa2d80>]\n",
      "[<Element div at 0x23e7caa03c0>]\n",
      "['item-0']\n",
      "[<Element a at 0x23e7ae12880>]\n",
      "[]\n",
      "[<Element a at 0x23e7caa2440>]\n",
      "[<Element li at 0x23e7cacdc80>]\n"
     ]
    },
    {
     "data": {
      "text/plain": [
       "[<Element li at 0x23e7cacdc80>]"
      ]
     },
     "execution_count": 40,
     "metadata": {},
     "output_type": "execute_result"
    }
   ],
   "source": [
    "xpath(\n",
    "    \"//li[1]/ancestor::*\"\n",
    ")  # [<Element html at 0x23e7cacd0c0>, <Element body at 0x23e7cb06a80>, <Element div at 0x23e7ca78140>, <Element ul at 0x23e7ca79500>]\n",
    "xpath(\"//li[1]/ancestor::div\")  # [<Element div at 0x23e7cb05b00>]\n",
    "xpath(\"//li[1]/attribute::*\")  # ['item-0']\n",
    "xpath('//li[1]/child::a[@href=\"link1.html\"]')  # [<Element a at 0x23e7cb053c0>]\n",
    "xpath(\"//li[1]/descendant::span\")  # []\n",
    "xpath(\"//li[1]/following::*[2]\")  # [<Element a at 0x23e7afc0c40>]\n",
    "xpath(\"//li[1]/following-sibling::*[2]\")  # [<Element li at 0x23e7cacdc80>]\n"
   ]
  }
 ],
 "metadata": {
  "interpreter": {
   "hash": "f69153421f7310a796e857cd645e6dce4fc48521fbed7416099549478f222037"
  },
  "kernelspec": {
   "display_name": "Python 3.10.4 64-bit",
   "language": "python",
   "name": "python3"
  },
  "language_info": {
   "codemirror_mode": {
    "name": "ipython",
    "version": 3
   },
   "file_extension": ".py",
   "mimetype": "text/x-python",
   "name": "python",
   "nbconvert_exporter": "python",
   "pygments_lexer": "ipython3",
   "version": "3.10.4"
  },
  "orig_nbformat": 4
 },
 "nbformat": 4,
 "nbformat_minor": 2
}
